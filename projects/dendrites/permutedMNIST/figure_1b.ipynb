{
  "nbformat": 4,
  "nbformat_minor": 0,
  "metadata": {
    "colab": {
      "name": "figure_1b.ipynb",
      "provenance": [],
      "collapsed_sections": []
    },
    "kernelspec": {
      "name": "python3",
      "display_name": "Python 3"
    },
    "language_info": {
      "name": "python"
    }
  },
  "cells": [
    {
      "cell_type": "markdown",
      "metadata": {
        "id": "HmMYDuNjMdzl"
      },
      "source": [
        "**Plotting function**\n",
        "\n",
        "The function defined here takes `activations`, `task_labels` and `plot_type` and generates a heatmap that gives either\n",
        "\n",
        "- the mean activation value of each unit across examples of each task (if `plot_type == \"mean_activation\"`, or\n",
        "- the fraction of examples across each task for which each unit is ON after k-Winners (if `plot_type == \"percent_on\"`)."
      ]
    },
    {
      "cell_type": "code",
      "metadata": {
        "id": "-DkTSetG062w"
      },
      "source": [
        "import numpy as np\n",
        "import torch\n",
        "\n",
        "import matplotlib.pyplot as plt\n",
        "plt.rcParams.update({'font.size': 16})\n",
        "\n",
        "\n",
        "def plot(activations, task_labels, plot_type):\n",
        "    assert plot_type in (\"mean_activation\", \"percent_on\"), (\"plot type must be either \"\n",
        "    \"'mean_activation' or 'percent_on'\")\n",
        "\n",
        "    # STEP 1: compute the array that we're going to plot\n",
        "    with torch.no_grad():\n",
        "        device = activations.device\n",
        "        num_tasks = 1 + task_labels.max().item()\n",
        "        _, num_units = activations.size()\n",
        "        h = torch.zeros((0, num_units))\n",
        "        h = h.to(device)\n",
        "        for t in range(num_tasks):\n",
        "            inds_t = torch.nonzero((task_labels == t).float(), as_tuple=True)\n",
        "            h_t = activations[inds_t]\n",
        "            if plot_type == \"percent_on\":\n",
        "                h_t = (h_t != 0).float()\n",
        "            h_t = h_t.mean(dim=0)\n",
        "            h_t = h_t.unsqueeze(0)\n",
        "            h = torch.cat((h, h_t))\n",
        "\n",
        "    # STEP 2: plotting\n",
        "    NUM_UNITS_TO_PLOT = 64\n",
        "    h = h[:, :NUM_UNITS_TO_PLOT]\n",
        "    h = h.detach().cpu().numpy()\n",
        "\n",
        "    max_val = np.abs(h).max()\n",
        "    if plot_type == \"mean_activation\":\n",
        "        plt.imshow(h, cmap=\"PiYG\", vmin=-max_val, vmax=max_val)\n",
        "    else:\n",
        "        plt.imshow(h, cmap=\"Greens\", vmin=0.0, vmax=max_val)\n",
        "\n",
        "    plt.xlabel(\"hidden unit\")\n",
        "    plt.ylabel(\"task\")\n",
        "\n",
        "    # These next 2 lines stretch the figure vertically\n",
        "    ax = plt.gca()\n",
        "    ax.set_aspect(2.5)\n",
        "\n",
        "    ax.get_yaxis().set_ticks([])\n",
        "\n",
        "    plt.tight_layout()\n",
        "    plt.show()\n"
      ],
      "execution_count": 77,
      "outputs": []
    },
    {
      "cell_type": "markdown",
      "metadata": {
        "id": "V6325RZLNzfa"
      },
      "source": [
        "**Generating plots with saved data**\n",
        "\n",
        "The centroid script outputs `.pt` files which represent the activations and task labels. Specify these below to generate plots. Make sure that the 'key' in the file name is the same for both the activations and task labels."
      ]
    },
    {
      "cell_type": "code",
      "metadata": {
        "colab": {
          "base_uri": "https://localhost:8080/",
          "height": 479
        },
        "id": "UCAoMQibNwqE",
        "outputId": "60017372-8295-4dd7-bc94-db2d96065494"
      },
      "source": [
        "if __name__ == \"__main__\":\n",
        "\n",
        "    # Load data and plot\n",
        "\n",
        "    # NOTE: the user must edit the filenames below\n",
        "\n",
        "    X = torch.load(\"x_10_layer_activations.1_yqrs.pt\", map_location=torch.device(\"cpu\"))\n",
        "    y = torch.load(\"y_10_layer_activations.1_yqrs.pt\", map_location=torch.device(\"cpu\"))\n",
        "\n",
        "    for plot_type in (\"mean_activation\", \"percent_on\"):\n",
        "        plt.cla()\n",
        "        print(f\"plot type: {plot_type}\")\n",
        "        plot(X, y, plot_type)"
      ],
      "execution_count": 80,
      "outputs": [
        {
          "output_type": "stream",
          "text": [
            "plot type: mean_activation\n"
          ],
          "name": "stdout"
        },
        {
          "output_type": "display_data",
          "data": {
            "image/png": "[encoded data removed]",
            "text/plain": [
              "<Figure size 460.8x345.6 with 1 Axes>"
            ]
          },
          "metadata": {
            "tags": [],
            "needs_background": "light"
          }
        },
        {
          "output_type": "stream",
          "text": [
            "plot type: percent_on\n"
          ],
          "name": "stdout"
        },
        {
          "output_type": "display_data",
          "data": {
            "image/png": "[encoded data removed]",
            "text/plain": [
              "<Figure size 460.8x345.6 with 1 Axes>"
            ]
          },
          "metadata": {
            "tags": [],
            "needs_background": "light"
          }
        }
      ]
    },
    {
      "cell_type": "code",
      "metadata": {
        "id": "eJwu8eD9Qt_s"
      },
      "source": [
        ""
      ],
      "execution_count": null,
      "outputs": []
    }
  ]
}