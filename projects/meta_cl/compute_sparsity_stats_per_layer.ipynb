{
 "metadata": {
  "language_info": {
   "codemirror_mode": {
    "name": "ipython",
    "version": 3
   },
   "file_extension": ".py",
   "mimetype": "text/x-python",
   "name": "python",
   "nbconvert_exporter": "python",
   "pygments_lexer": "ipython3",
   "version": "3.7.7-final"
  },
  "orig_nbformat": 2,
  "kernelspec": {
   "name": "python3",
   "display_name": "Python 3",
   "language": "python"
  }
 },
 "nbformat": 4,
 "nbformat_minor": 2,
 "cells": [
  {
   "cell_type": "code",
   "execution_count": 1,
   "metadata": {},
   "outputs": [],
   "source": [
    "import os\n",
    "\n",
    "from collections import defaultdict\n",
    "from pprint import pprint\n",
    "\n",
    "import torch\n",
    "import numpy as np\n",
    "import seaborn as sns\n",
    "from torch.utils.data import DataLoader\n",
    "from pandas import DataFrame\n",
    "\n",
    "import matplotlib.pyplot as plt\n",
    "\n",
    "from nupic.research.frameworks.pytorch.model_utils import count_nonzero_params\n",
    "from nupic.research.frameworks.pytorch.restore_utils import load_state_from_checkpoint"
   ]
  },
  {
   "source": [
    "## Overview\n",
    "This notebook calculate \n",
    "* How often each unit is on, averages accross the whole datset\n",
    "* The level of sparsity seen for each output to a layer\n",
    "* The entropy of each unit $$-\\sum p_i \\log p_i $$ where $p_i$ is the fraction of times the unit is on throughout the whole dataset."
   ],
   "cell_type": "markdown",
   "metadata": {}
  },
  {
   "source": [
    "## Load the experiment\n",
    "\n",
    "This will load the desired experiment config and related Dataloader."
   ],
   "cell_type": "markdown",
   "metadata": {}
  },
  {
   "cell_type": "code",
   "execution_count": 3,
   "metadata": {},
   "outputs": [],
   "source": [
    "BATCH_SIZE = 16\n",
    "PROJECT_DIR = os.path.expanduser(\"~/nta/nupic.research/projects/gsc\")\n",
    "EXPERIMENT_NAME = \"default_sparse_cnn\"\n",
    "CHECKPOINT_FILE = \"/home/ec2-user/nta/results/experiments/gsc/default_sparse_cnn/RemoteProcessTrainable_0_2021-01-07_15-54-473wnu2slv/checkpoint_30/checkpoint\"\n",
    "USE_CUDA = torch.cuda.is_available()\n",
    "\n",
    "# Load the experiment\n",
    "import os\n",
    "import sys\n",
    "\n",
    "sys.path.insert(0, PROJECT_DIR)\n",
    "\n",
    "from experiments import CONFIGS\n",
    "\n",
    "config = CONFIGS[EXPERIMENT_NAME]\n",
    "exp_cls = config[\"experiment_class\"]\n",
    "exp = exp_cls()\n",
    "\n",
    "# Load dataloader with specified BATCH_SIZE.\n",
    "dataset = exp_cls.load_dataset(config, train=True)\n",
    "train_loader = DataLoader(\n",
    "    dataset=dataset,\n",
    "    batch_size=BATCH_SIZE,\n",
    "    shuffle=True,\n",
    "    num_workers=0,\n",
    "    sampler=None,\n",
    "    pin_memory=USE_CUDA,\n",
    "    drop_last=config.get(\"train_loader_drop_last\", False),\n",
    ")"
   ]
  },
  {
   "source": [
    "## The the model from a checkpoint."
   ],
   "cell_type": "markdown",
   "metadata": {}
  },
  {
   "cell_type": "code",
   "execution_count": 5,
   "metadata": {},
   "outputs": [],
   "source": [
    "# Path to checkpoint.\n",
    "assert CHECKPOINT_FILE is not None, \"You should specify a path to a checkpoint.\"\n",
    "\n",
    "# Load model\n",
    "config = CONFIGS[EXPERIMENT_NAME]\n",
    "exp_cls = config[\"experiment_class\"]\n",
    "exp = exp_cls()\n",
    "\n",
    "model = exp_cls.create_model(config, \"cuda\")\n",
    "load_state_from_checkpoint(model=model, checkpoint_path=CHECKPOINT_FILE, device=\"cuda\");\n"
   ]
  },
  {
   "source": [
    "## Helper class and method."
   ],
   "cell_type": "markdown",
   "metadata": {}
  },
  {
   "source": [
    "class SaveForwardOutput:\n",
    "    \"\"\"\n",
    "    Forward hook for atorch.nn.Module. This will store the output from a module during the forward pass.\n",
    "\n",
    "    :param name: name of the module (e.g. \"classifier\")\n",
    "    :param verbose: whether to print something every forward pass\n",
    "    \"\"\"\n",
    "\n",
    "    def __init__(self, name=None, verbose=False):\n",
    "        self.name = name\n",
    "        self.verbose = verbose\n",
    "        self.output = None\n",
    "    \n",
    "    def __call__(self, module, x, y):\n",
    "        \"\"\"\n",
    "        Forward hook on torch.nn.Module\n",
    "\n",
    "        :param module: module\n",
    "        :param x: tuple of inputs\n",
    "        :param y: ouput of module\n",
    "        \"\"\"\n",
    "        if self.verbose:\n",
    "            print(f\"Forward hook of {self.name} ({module.__class__.__name__})\")\n",
    "\n",
    "        # Save the output of the layer.\n",
    "        self.output = y\n",
    "\n",
    "def calculate_on_counts(rep):\n",
    "    \"\"\"\n",
    "    Calculates the number of times a unit is on for the given batch.\n",
    "\n",
    "    :param rep: tensor of an intermediate representation\n",
    "    :return: a 1D tensor of with len equal to the total number of units\n",
    "    \"\"\"\n",
    "    rep = rep.flatten(start_dim=1)\n",
    "    on_mask = rep != 0\n",
    "    on_counts = on_mask.sum(axis=0)\n",
    "    return on_counts\n",
    "\n",
    "def calculate_sparsities(rep):\n",
    "    \"\"\"\n",
    "    Calculates the fraction of units off for each sample in the batch.\n",
    "\n",
    "    :param rep: tensor of an intermediate representation\n",
    "    :return: tensor of sparsities, one for each sample in the batch\n",
    "    \"\"\"\n",
    "    rep = rep.flatten(start_dim=1)\n",
    "    off_mask = rep == 0\n",
    "    sparsities = off_mask.sum(axis=1).float()\n",
    "    sparsities = sparsities / rep.shape[1]\n",
    "    return sparsities\n"
   ],
   "cell_type": "code",
   "metadata": {},
   "execution_count": 7,
   "outputs": []
  },
  {
   "source": [
    "## Add forward hooks to all layers of the model"
   ],
   "cell_type": "markdown",
   "metadata": {}
  },
  {
   "cell_type": "code",
   "execution_count": 9,
   "metadata": {},
   "outputs": [],
   "source": [
    "forward_hooks = {}\n",
    "tracked_modules = []\n",
    "\n",
    "for n, m in model.named_modules():\n",
    "\n",
    "    # Skip over modules that have sub-modules.\n",
    "    # These sub-modules will be found recursively by 'named_modules'. \n",
    "    if len(list(m.children())) > 0:\n",
    "        continue\n",
    "\n",
    "    # TODO: We can filter which modules get tracked if needed.\n",
    "    forward_hook = SaveForwardOutput(name=n)\n",
    "    m.register_forward_hook(forward_hook)\n",
    "    forward_hooks[n] = forward_hook\n",
    "    tracked_modules.append(m)"
   ]
  },
  {
   "source": [
    "## A Brief Overview of the Model"
   ],
   "cell_type": "markdown",
   "metadata": {}
  },
  {
   "cell_type": "code",
   "execution_count": 11,
   "metadata": {},
   "outputs": [
    {
     "output_type": "stream",
     "name": "stdout",
     "text": [
      "Model density (on_params / total_params): 194,388 / 1,717,140 = 0.11\n"
     ]
    }
   ],
   "source": [
    "total_params, on_params = count_nonzero_params(model)\n",
    "print(f\"Model density (on_params / total_params): {on_params:,} / {total_params:,} = {on_params/total_params:.2f}\")"
   ]
  },
  {
   "cell_type": "code",
   "execution_count": 13,
   "metadata": {},
   "outputs": [
    {
     "output_type": "stream",
     "name": "stdout",
     "text": [
      "GSCSparseCNN(\n  (cnn1): SparseWeights2d(\n    sparsity=0.5\n    (module): Conv2d(1, 64, kernel_size=(5, 5), stride=(1, 1))\n  )\n  (cnn1_batchnorm): BatchNorm2d(64, eps=1e-05, momentum=0.1, affine=False, track_running_stats=True)\n  (cnn1_kwinner): KWinners2d(channels=64, local=False, break_ties=False, n=0, percent_on=0.095, boost_strength=0.06358673423528671, boost_strength_factor=0.9, k_inference_factor=1.0, duty_cycle_period=1000)\n  (cnn1_maxpool): MaxPool2d(kernel_size=2, stride=2, padding=0, dilation=1, ceil_mode=False)\n  (cnn2): SparseWeights2d(\n    sparsity=0.8\n    (module): Conv2d(64, 64, kernel_size=(5, 5), stride=(1, 1))\n  )\n  (cnn2_batchnorm): BatchNorm2d(64, eps=1e-05, momentum=0.1, affine=False, track_running_stats=True)\n  (cnn2_kwinner): KWinners2d(channels=64, local=False, break_ties=False, n=0, percent_on=0.125, boost_strength=0.06358673423528671, boost_strength_factor=0.9, k_inference_factor=1.0, duty_cycle_period=1000)\n  (cnn2_maxpool): MaxPool2d(kernel_size=2, stride=2, padding=0, dilation=1, ceil_mode=False)\n  (flatten): Flatten()\n  (linear): SparseWeights(\n    sparsity=0.9\n    (module): Linear(in_features=1600, out_features=1000, bias=True)\n  )\n  (linear_bn): BatchNorm1d(1000, eps=1e-05, momentum=0.1, affine=False, track_running_stats=True)\n  (linear_kwinner): KWinners(n=1000, percent_on=0.1, boost_strength=0.06358673423528671, boost_strength_factor=0.9, k_inference_factor=1.0, duty_cycle_period=1000, break_ties=False)\n  (output): Linear(in_features=1000, out_features=12, bias=True)\n  (softmax): LogSoftmax()\n)\n"
     ]
    }
   ],
   "source": [
    "print(model)"
   ]
  },
  {
   "source": [
    "## Compute statistics of the output representations\n",
    "* How often each unit is on\n",
    "* The level of sparsity for each output from a layer"
   ],
   "cell_type": "markdown",
   "metadata": {}
  },
  {
   "cell_type": "code",
   "execution_count": 24,
   "metadata": {
    "tags": []
   },
   "outputs": [],
   "source": [
    "# This will be a tensor of length equal to the total number of output units to the given layer.\n",
    "# Each value will represent the frequency (\"freq\") of how often that unit is on throughout the whol dataset.\n",
    "layer_on_freqs = defaultdict(int)\n",
    "\n",
    "# This will be a list of sparsities measure for each output passed to the layer.\n",
    "layer_sparsities = defaultdict(list)\n",
    "\n",
    "# Loop through the whole dataset. See \"Load the experiment\" section\n",
    "# above to use the validation dataloader if desired.\n",
    "total_images = 0\n",
    "model.eval()\n",
    "for x, y in train_loader:\n",
    "    x, y = x.to(\"cuda\"), y.to(\"cuda\")\n",
    "    out = model(x)\n",
    "\n",
    "    for name, hook in forward_hooks.items():\n",
    "\n",
    "        # Retrieve ouput saved in the forward hook.\n",
    "        representation = hook.output\n",
    "\n",
    "        # Tally the on-counts for each unit.\n",
    "        on_counts = calculate_on_counts(representation)\n",
    "        layer_on_freqs[name] += on_counts\n",
    "\n",
    "        # Compute the level of sparsity for each output.\n",
    "        sparsities = calculate_sparsities(representation)\n",
    "        layer_sparsities[name].extend(sparsities.tolist())\n",
    "\n",
    "    total_images += len(x)\n",
    "\n",
    "# Divide through by number of samples to find on-frequency for eash unit.\n",
    "for layer, on_counts in layer_on_freqs.items():\n",
    "    layer_on_freqs[layer] = on_counts.float() / total_images\n"
   ]
  },
  {
   "source": [
    "## Print summary of statitics\n",
    "* How often each unit is on\n",
    "* The level of sparsity for each output to a layer\n",
    "* The entropy of each unit (excluding dead units; otherwise we take the lof of zero)"
   ],
   "cell_type": "markdown",
   "metadata": {}
  },
  {
   "cell_type": "code",
   "execution_count": 25,
   "metadata": {},
   "outputs": [
    {
     "output_type": "stream",
     "name": "stdout",
     "text": [
      "Layer cnn1.module (Conv2d)\n    Average sparsity of output = 0.000 ± 0.000\n    Entropy of layer = 0.0\n    Fractions of dead neurons in layer = 0.000 (0 out of 50176)\n\nLayer cnn1_batchnorm (BatchNorm2d)\n    Average sparsity of output = 0.000 ± 0.000\n    Entropy of layer = 4.280653698174319e-08\n    Fractions of dead neurons in layer = 0.000 (0 out of 50176)\n\nLayer cnn1_kwinner (KWinners2d)\n    Average sparsity of output = 0.903 ± 0.004\n    Entropy of layer = 0.19471943378448486\n    Fractions of dead neurons in layer = 0.000 (0 out of 50176)\n\nLayer cnn1_maxpool (MaxPool2d)\n    Average sparsity of output = 0.851 ± 0.016\n    Entropy of layer = 0.24615955352783203\n    Fractions of dead neurons in layer = 0.000 (0 out of 12544)\n\nLayer cnn2.module (Conv2d)\n    Average sparsity of output = 0.000 ± 0.000\n    Entropy of layer = 0.0\n    Fractions of dead neurons in layer = 0.000 (0 out of 6400)\n\nLayer cnn2_batchnorm (BatchNorm2d)\n    Average sparsity of output = 0.000 ± 0.000\n    Entropy of layer = 2.288203759803764e-08\n    Fractions of dead neurons in layer = 0.000 (0 out of 6400)\n\nLayer cnn2_kwinner (KWinners2d)\n    Average sparsity of output = 0.875 ± 0.000\n    Entropy of layer = 0.2465870976448059\n    Fractions of dead neurons in layer = 0.000 (0 out of 6400)\n\nLayer cnn2_maxpool (MaxPool2d)\n    Average sparsity of output = 0.749 ± 0.042\n    Entropy of layer = 0.3296735882759094\n    Fractions of dead neurons in layer = 0.000 (0 out of 1600)\n\nLayer flatten (Flatten)\n    Average sparsity of output = 0.749 ± 0.042\n    Entropy of layer = 0.3296735882759094\n    Fractions of dead neurons in layer = 0.000 (0 out of 1600)\n\nLayer linear.module (Linear)\n    Average sparsity of output = 0.000 ± 0.000\n    Entropy of layer = 0.0\n    Fractions of dead neurons in layer = 0.000 (0 out of 1000)\n\nLayer linear_bn (BatchNorm1d)\n    Average sparsity of output = 0.000 ± 0.000\n    Entropy of layer = 9.763002850604607e-08\n    Fractions of dead neurons in layer = 0.000 (0 out of 1000)\n\nLayer linear_kwinner (KWinners)\n    Average sparsity of output = 0.900 ± 0.000\n    Entropy of layer = 0.22677914798259735\n    Fractions of dead neurons in layer = 0.000 (0 out of 1000)\n\nLayer output (Linear)\n    Average sparsity of output = 0.000 ± 0.000\n    Entropy of layer = 0.0\n    Fractions of dead neurons in layer = 0.000 (0 out of 12)\n\nLayer softmax (LogSoftmax)\n    Average sparsity of output = 0.000 ± 0.001\n    Entropy of layer = 2.034376302617602e-05\n    Fractions of dead neurons in layer = 0.000 (0 out of 12)\n\n"
     ]
    }
   ],
   "source": [
    "df = DataFrame(columns=[\"module type\", \"mu output sparsity\", \"sd output sparsity\", \"entropy\", \"dead neuron count\", \"total neurons\", \"fraction_dead\"])\n",
    "\n",
    "\n",
    "def log2_of_zeros(arr):\n",
    "    \"\"\"\n",
    "    Intentionally leave zero's as they are when taking the log.\n",
    "    \"\"\"\n",
    "    arr = arr.copy()\n",
    "    arr[arr != 0] = np.log(arr[arr != 0])\n",
    "    return arr\n",
    "\n",
    "\n",
    "for (layer, sparsities), freqs, module in zip(layer_sparsities.items(), layer_on_freqs.values(), tracked_modules):\n",
    "\n",
    "    mu_sparsity = np.mean(sparsities)\n",
    "    sd_sparsity = np.std(sparsities)\n",
    "    module_type = module.__class__.__name__\n",
    "    print(f\"Layer {layer} ({module_type})\")\n",
    "    print(f\"    Average sparsity of output = {mu_sparsity:.3f} ± {sd_sparsity:.3f}\")\n",
    "\n",
    "    freqs = freqs.cpu().numpy()\n",
    "    entropy = np.sum(-freqs * log2_of_zeros(freqs) / len(freqs))\n",
    "    print(f\"    Entropy of layer = {entropy}\")\n",
    "\n",
    "    dead_count = (freqs == 0).sum()\n",
    "    total_neurons = len(freqs)\n",
    "    fraction_dead = dead_count / total_neurons\n",
    "    print(f\"    Fractions of dead neurons in layer = {fraction_dead:.3f} ({dead_count} out of {total_neurons})\")\n",
    "    print()\n",
    "\n",
    "    df.at[layer] = (module_type, mu_sparsity, sd_sparsity, entropy, dead_count, total_neurons, fraction_dead)\n",
    "\n"
   ]
  },
  {
   "cell_type": "code",
   "execution_count": 26,
   "metadata": {},
   "outputs": [
    {
     "output_type": "execute_result",
     "data": {
      "text/plain": [
       "                module type mu output sparsity sd output sparsity  \\\n",
       "cnn1.module          Conv2d                  0                  0   \n",
       "cnn1_batchnorm  BatchNorm2d        4.28138e-08        9.22735e-07   \n",
       "cnn1_kwinner     KWinners2d           0.903458         0.00412662   \n",
       "cnn1_maxpool      MaxPool2d           0.851052          0.0163166   \n",
       "cnn2.module          Conv2d                  0                  0   \n",
       "cnn2_batchnorm  BatchNorm2d        2.28859e-08        1.89087e-06   \n",
       "cnn2_kwinner     KWinners2d           0.874997        4.19071e-05   \n",
       "cnn2_maxpool      MaxPool2d           0.749466          0.0423709   \n",
       "flatten             Flatten           0.749466          0.0423709   \n",
       "linear.module        Linear                  0                  0   \n",
       "linear_bn       BatchNorm1d        9.76467e-08        9.88115e-06   \n",
       "linear_kwinner     KWinners                0.9                  0   \n",
       "output               Linear                  0                  0   \n",
       "softmax          LogSoftmax        2.03431e-05         0.00130186   \n",
       "\n",
       "                    entropy dead neuron count total neurons fraction_dead  \n",
       "cnn1.module               0                 0         50176             0  \n",
       "cnn1_batchnorm  4.28065e-08                 0         50176             0  \n",
       "cnn1_kwinner       0.194719                 0         50176             0  \n",
       "cnn1_maxpool        0.24616                 0         12544             0  \n",
       "cnn2.module               0                 0          6400             0  \n",
       "cnn2_batchnorm   2.2882e-08                 0          6400             0  \n",
       "cnn2_kwinner       0.246587                 0          6400             0  \n",
       "cnn2_maxpool       0.329674                 0          1600             0  \n",
       "flatten            0.329674                 0          1600             0  \n",
       "linear.module             0                 0          1000             0  \n",
       "linear_bn         9.763e-08                 0          1000             0  \n",
       "linear_kwinner     0.226779                 0          1000             0  \n",
       "output                    0                 0            12             0  \n",
       "softmax         2.03438e-05                 0            12             0  "
      ],
      "text/html": "<div>\n<style scoped>\n    .dataframe tbody tr th:only-of-type {\n        vertical-align: middle;\n    }\n\n    .dataframe tbody tr th {\n        vertical-align: top;\n    }\n\n    .dataframe thead th {\n        text-align: right;\n    }\n</style>\n<table border=\"1\" class=\"dataframe\">\n  <thead>\n    <tr style=\"text-align: right;\">\n      <th></th>\n      <th>module type</th>\n      <th>mu output sparsity</th>\n      <th>sd output sparsity</th>\n      <th>entropy</th>\n      <th>dead neuron count</th>\n      <th>total neurons</th>\n      <th>fraction_dead</th>\n    </tr>\n  </thead>\n  <tbody>\n    <tr>\n      <th>cnn1.module</th>\n      <td>Conv2d</td>\n      <td>0</td>\n      <td>0</td>\n      <td>0</td>\n      <td>0</td>\n      <td>50176</td>\n      <td>0</td>\n    </tr>\n    <tr>\n      <th>cnn1_batchnorm</th>\n      <td>BatchNorm2d</td>\n      <td>4.28138e-08</td>\n      <td>9.22735e-07</td>\n      <td>4.28065e-08</td>\n      <td>0</td>\n      <td>50176</td>\n      <td>0</td>\n    </tr>\n    <tr>\n      <th>cnn1_kwinner</th>\n      <td>KWinners2d</td>\n      <td>0.903458</td>\n      <td>0.00412662</td>\n      <td>0.194719</td>\n      <td>0</td>\n      <td>50176</td>\n      <td>0</td>\n    </tr>\n    <tr>\n      <th>cnn1_maxpool</th>\n      <td>MaxPool2d</td>\n      <td>0.851052</td>\n      <td>0.0163166</td>\n      <td>0.24616</td>\n      <td>0</td>\n      <td>12544</td>\n      <td>0</td>\n    </tr>\n    <tr>\n      <th>cnn2.module</th>\n      <td>Conv2d</td>\n      <td>0</td>\n      <td>0</td>\n      <td>0</td>\n      <td>0</td>\n      <td>6400</td>\n      <td>0</td>\n    </tr>\n    <tr>\n      <th>cnn2_batchnorm</th>\n      <td>BatchNorm2d</td>\n      <td>2.28859e-08</td>\n      <td>1.89087e-06</td>\n      <td>2.2882e-08</td>\n      <td>0</td>\n      <td>6400</td>\n      <td>0</td>\n    </tr>\n    <tr>\n      <th>cnn2_kwinner</th>\n      <td>KWinners2d</td>\n      <td>0.874997</td>\n      <td>4.19071e-05</td>\n      <td>0.246587</td>\n      <td>0</td>\n      <td>6400</td>\n      <td>0</td>\n    </tr>\n    <tr>\n      <th>cnn2_maxpool</th>\n      <td>MaxPool2d</td>\n      <td>0.749466</td>\n      <td>0.0423709</td>\n      <td>0.329674</td>\n      <td>0</td>\n      <td>1600</td>\n      <td>0</td>\n    </tr>\n    <tr>\n      <th>flatten</th>\n      <td>Flatten</td>\n      <td>0.749466</td>\n      <td>0.0423709</td>\n      <td>0.329674</td>\n      <td>0</td>\n      <td>1600</td>\n      <td>0</td>\n    </tr>\n    <tr>\n      <th>linear.module</th>\n      <td>Linear</td>\n      <td>0</td>\n      <td>0</td>\n      <td>0</td>\n      <td>0</td>\n      <td>1000</td>\n      <td>0</td>\n    </tr>\n    <tr>\n      <th>linear_bn</th>\n      <td>BatchNorm1d</td>\n      <td>9.76467e-08</td>\n      <td>9.88115e-06</td>\n      <td>9.763e-08</td>\n      <td>0</td>\n      <td>1000</td>\n      <td>0</td>\n    </tr>\n    <tr>\n      <th>linear_kwinner</th>\n      <td>KWinners</td>\n      <td>0.9</td>\n      <td>0</td>\n      <td>0.226779</td>\n      <td>0</td>\n      <td>1000</td>\n      <td>0</td>\n    </tr>\n    <tr>\n      <th>output</th>\n      <td>Linear</td>\n      <td>0</td>\n      <td>0</td>\n      <td>0</td>\n      <td>0</td>\n      <td>12</td>\n      <td>0</td>\n    </tr>\n    <tr>\n      <th>softmax</th>\n      <td>LogSoftmax</td>\n      <td>2.03431e-05</td>\n      <td>0.00130186</td>\n      <td>2.03438e-05</td>\n      <td>0</td>\n      <td>12</td>\n      <td>0</td>\n    </tr>\n  </tbody>\n</table>\n</div>"
     },
     "metadata": {},
     "execution_count": 26
    }
   ],
   "source": [
    "df"
   ]
  },
  {
   "source": [
    "## Visualize the distribution of how often each unit is on or off\n"
   ],
   "cell_type": "markdown",
   "metadata": {}
  },
  {
   "cell_type": "code",
   "execution_count": 27,
   "metadata": {},
   "outputs": [
    {
     "output_type": "stream",
     "name": "stdout",
     "text": [
      "Names of layers observed via hooks: (helpful for specifying 'layer' in the cell below.\n\n['cnn1.module',\n 'cnn1_batchnorm',\n 'cnn1_kwinner',\n 'cnn1_maxpool',\n 'cnn2.module',\n 'cnn2_batchnorm',\n 'cnn2_kwinner',\n 'cnn2_maxpool',\n 'flatten',\n 'linear.module',\n 'linear_bn',\n 'linear_kwinner',\n 'output',\n 'softmax']\n"
     ]
    }
   ],
   "source": [
    "print(\"Names of layers observed via hooks: (helpful for specifying 'layer' in the cell below.\\n\")\n",
    "pprint(list(layer_on_freqs.keys()))"
   ]
  },
  {
   "cell_type": "code",
   "execution_count": 28,
   "metadata": {},
   "outputs": [
    {
     "output_type": "display_data",
     "data": {
      "text/plain": "<Figure size 432x288 with 1 Axes>",
      "image/svg+xml": "<?xml version=\"1.0\" encoding=\"utf-8\" standalone=\"no\"?>\n<!DOCTYPE svg PUBLIC \"-//W3C//DTD SVG 1.1//EN\"\n  \"http://www.w3.org/Graphics/SVG/1.1/DTD/svg11.dtd\">\n<!-- Created with matplotlib (https://matplotlib.org/) -->\n<svg height=\"277.314375pt\" version=\"1.1\" viewBox=\"0 0 393.255257 277.314375\" width=\"393.255257pt\" xmlns=\"http://www.w3.org/2000/svg\" xmlns:xlink=\"http://www.w3.org/1999/xlink\">\n <defs>\n  <style type=\"text/css\">\n*{stroke-linecap:butt;stroke-linejoin:round;}\n  </style>\n </defs>\n <g id=\"figure_1\">\n  <g id=\"patch_1\">\n   <path d=\"M 0 277.314375 \nL 393.255257 277.314375 \nL 393.255257 0 \nL 0 0 \nz\n\" style=\"fill:none;\"/>\n  </g>\n  <g id=\"axes_1\">\n   <g id=\"patch_2\">\n    <path d=\"M 50.14375 239.758125 \nL 384.94375 239.758125 \nL 384.94375 22.318125 \nL 50.14375 22.318125 \nz\n\" style=\"fill:#ffffff;\"/>\n   </g>\n   <g id=\"patch_3\">\n    <path clip-path=\"url(#p3196f56e13)\" d=\"M 65.361932 239.758125 \nL 74.058036 239.758125 \nL 74.058036 230.754398 \nL 65.361932 230.754398 \nz\n\" style=\"fill:#1f77b4;fill-opacity:0.5;stroke:#000000;stroke-linejoin:miter;stroke-width:0.869609;\"/>\n   </g>\n   <g id=\"patch_4\">\n    <path clip-path=\"url(#p3196f56e13)\" d=\"M 74.058036 239.758125 \nL 82.754139 239.758125 \nL 82.754139 230.754398 \nL 74.058036 230.754398 \nz\n\" style=\"fill:#1f77b4;fill-opacity:0.5;stroke:#000000;stroke-linejoin:miter;stroke-width:0.869609;\"/>\n   </g>\n   <g id=\"patch_5\">\n    <path clip-path=\"url(#p3196f56e13)\" d=\"M 82.754139 239.758125 \nL 91.450243 239.758125 \nL 91.450243 236.156634 \nL 82.754139 236.156634 \nz\n\" style=\"fill:#1f77b4;fill-opacity:0.5;stroke:#000000;stroke-linejoin:miter;stroke-width:0.869609;\"/>\n   </g>\n   <g id=\"patch_6\">\n    <path clip-path=\"url(#p3196f56e13)\" d=\"M 91.450243 239.758125 \nL 100.146347 239.758125 \nL 100.146347 214.54769 \nL 91.450243 214.54769 \nz\n\" style=\"fill:#1f77b4;fill-opacity:0.5;stroke:#000000;stroke-linejoin:miter;stroke-width:0.869609;\"/>\n   </g>\n   <g id=\"patch_7\">\n    <path clip-path=\"url(#p3196f56e13)\" d=\"M 100.146347 239.758125 \nL 108.842456 239.758125 \nL 108.842456 209.145454 \nL 100.146347 209.145454 \nz\n\" style=\"fill:#1f77b4;fill-opacity:0.5;stroke:#000000;stroke-linejoin:miter;stroke-width:0.869609;\"/>\n   </g>\n   <g id=\"patch_8\">\n    <path clip-path=\"url(#p3196f56e13)\" d=\"M 108.842456 239.758125 \nL 117.53856 239.758125 \nL 117.53856 189.337255 \nL 108.842456 189.337255 \nz\n\" style=\"fill:#1f77b4;fill-opacity:0.5;stroke:#000000;stroke-linejoin:miter;stroke-width:0.869609;\"/>\n   </g>\n   <g id=\"patch_9\">\n    <path clip-path=\"url(#p3196f56e13)\" d=\"M 117.53856 239.758125 \nL 126.234664 239.758125 \nL 126.234664 167.728311 \nL 117.53856 167.728311 \nz\n\" style=\"fill:#1f77b4;fill-opacity:0.5;stroke:#000000;stroke-linejoin:miter;stroke-width:0.869609;\"/>\n   </g>\n   <g id=\"patch_10\">\n    <path clip-path=\"url(#p3196f56e13)\" d=\"M 126.234664 239.758125 \nL 134.930768 239.758125 \nL 134.930768 119.108187 \nL 126.234664 119.108187 \nz\n\" style=\"fill:#1f77b4;fill-opacity:0.5;stroke:#000000;stroke-linejoin:miter;stroke-width:0.869609;\"/>\n   </g>\n   <g id=\"patch_11\">\n    <path clip-path=\"url(#p3196f56e13)\" d=\"M 134.930768 239.758125 \nL 143.626871 239.758125 \nL 143.626871 74.089554 \nL 134.930768 74.089554 \nz\n\" style=\"fill:#1f77b4;fill-opacity:0.5;stroke:#000000;stroke-linejoin:miter;stroke-width:0.869609;\"/>\n   </g>\n   <g id=\"patch_12\">\n    <path clip-path=\"url(#p3196f56e13)\" d=\"M 143.626871 239.758125 \nL 152.322975 239.758125 \nL 152.322975 32.672411 \nL 143.626871 32.672411 \nz\n\" style=\"fill:#1f77b4;fill-opacity:0.5;stroke:#000000;stroke-linejoin:miter;stroke-width:0.869609;\"/>\n   </g>\n   <g id=\"patch_13\">\n    <path clip-path=\"url(#p3196f56e13)\" d=\"M 152.322975 239.758125 \nL 161.019079 239.758125 \nL 161.019079 77.691044 \nL 152.322975 77.691044 \nz\n\" style=\"fill:#1f77b4;fill-opacity:0.5;stroke:#000000;stroke-linejoin:miter;stroke-width:0.869609;\"/>\n   </g>\n   <g id=\"patch_14\">\n    <path clip-path=\"url(#p3196f56e13)\" d=\"M 161.019079 239.758125 \nL 169.715183 239.758125 \nL 169.715183 38.074647 \nL 161.019079 38.074647 \nz\n\" style=\"fill:#1f77b4;fill-opacity:0.5;stroke:#000000;stroke-linejoin:miter;stroke-width:0.869609;\"/>\n   </g>\n   <g id=\"patch_15\">\n    <path clip-path=\"url(#p3196f56e13)\" d=\"M 169.715183 239.758125 \nL 178.411286 239.758125 \nL 178.411286 83.09328 \nL 169.715183 83.09328 \nz\n\" style=\"fill:#1f77b4;fill-opacity:0.5;stroke:#000000;stroke-linejoin:miter;stroke-width:0.869609;\"/>\n   </g>\n   <g id=\"patch_16\">\n    <path clip-path=\"url(#p3196f56e13)\" d=\"M 178.411286 239.758125 \nL 187.10739 239.758125 \nL 187.10739 97.499243 \nL 178.411286 97.499243 \nz\n\" style=\"fill:#1f77b4;fill-opacity:0.5;stroke:#000000;stroke-linejoin:miter;stroke-width:0.869609;\"/>\n   </g>\n   <g id=\"patch_17\">\n    <path clip-path=\"url(#p3196f56e13)\" d=\"M 187.10739 239.758125 \nL 195.803494 239.758125 \nL 195.803494 119.108187 \nL 187.10739 119.108187 \nz\n\" style=\"fill:#1f77b4;fill-opacity:0.5;stroke:#000000;stroke-linejoin:miter;stroke-width:0.869609;\"/>\n   </g>\n   <g id=\"patch_18\">\n    <path clip-path=\"url(#p3196f56e13)\" d=\"M 195.803494 239.758125 \nL 204.499597 239.758125 \nL 204.499597 169.529057 \nL 195.803494 169.529057 \nz\n\" style=\"fill:#1f77b4;fill-opacity:0.5;stroke:#000000;stroke-linejoin:miter;stroke-width:0.869609;\"/>\n   </g>\n   <g id=\"patch_19\">\n    <path clip-path=\"url(#p3196f56e13)\" d=\"M 204.499597 239.758125 \nL 213.195701 239.758125 \nL 213.195701 182.134274 \nL 204.499597 182.134274 \nz\n\" style=\"fill:#1f77b4;fill-opacity:0.5;stroke:#000000;stroke-linejoin:miter;stroke-width:0.869609;\"/>\n   </g>\n   <g id=\"patch_20\">\n    <path clip-path=\"url(#p3196f56e13)\" d=\"M 213.195701 239.758125 \nL 221.891793 239.758125 \nL 221.891793 207.344709 \nL 213.195701 207.344709 \nz\n\" style=\"fill:#1f77b4;fill-opacity:0.5;stroke:#000000;stroke-linejoin:miter;stroke-width:0.869609;\"/>\n   </g>\n   <g id=\"patch_21\">\n    <path clip-path=\"url(#p3196f56e13)\" d=\"M 221.891793 239.758125 \nL 230.587909 239.758125 \nL 230.587909 219.949926 \nL 221.891793 219.949926 \nz\n\" style=\"fill:#1f77b4;fill-opacity:0.5;stroke:#000000;stroke-linejoin:miter;stroke-width:0.869609;\"/>\n   </g>\n   <g id=\"patch_22\">\n    <path clip-path=\"url(#p3196f56e13)\" d=\"M 230.587909 239.758125 \nL 239.284 239.758125 \nL 239.284 223.551417 \nL 230.587909 223.551417 \nz\n\" style=\"fill:#1f77b4;fill-opacity:0.5;stroke:#000000;stroke-linejoin:miter;stroke-width:0.869609;\"/>\n   </g>\n   <g id=\"patch_23\">\n    <path clip-path=\"url(#p3196f56e13)\" d=\"M 239.284 239.758125 \nL 247.980116 239.758125 \nL 247.980116 225.352162 \nL 239.284 225.352162 \nz\n\" style=\"fill:#1f77b4;fill-opacity:0.5;stroke:#000000;stroke-linejoin:miter;stroke-width:0.869609;\"/>\n   </g>\n   <g id=\"patch_24\">\n    <path clip-path=\"url(#p3196f56e13)\" d=\"M 247.980116 239.758125 \nL 256.676208 239.758125 \nL 256.676208 218.149181 \nL 247.980116 218.149181 \nz\n\" style=\"fill:#1f77b4;fill-opacity:0.5;stroke:#000000;stroke-linejoin:miter;stroke-width:0.869609;\"/>\n   </g>\n   <g id=\"patch_25\">\n    <path clip-path=\"url(#p3196f56e13)\" d=\"M 256.676208 239.758125 \nL 265.372324 239.758125 \nL 265.372324 223.551417 \nL 256.676208 223.551417 \nz\n\" style=\"fill:#1f77b4;fill-opacity:0.5;stroke:#000000;stroke-linejoin:miter;stroke-width:0.869609;\"/>\n   </g>\n   <g id=\"patch_26\">\n    <path clip-path=\"url(#p3196f56e13)\" d=\"M 265.372324 239.758125 \nL 274.068415 239.758125 \nL 274.068415 230.754398 \nL 265.372324 230.754398 \nz\n\" style=\"fill:#1f77b4;fill-opacity:0.5;stroke:#000000;stroke-linejoin:miter;stroke-width:0.869609;\"/>\n   </g>\n   <g id=\"patch_27\">\n    <path clip-path=\"url(#p3196f56e13)\" d=\"M 274.068415 239.758125 \nL 282.764531 239.758125 \nL 282.764531 228.953653 \nL 274.068415 228.953653 \nz\n\" style=\"fill:#1f77b4;fill-opacity:0.5;stroke:#000000;stroke-linejoin:miter;stroke-width:0.869609;\"/>\n   </g>\n   <g id=\"patch_28\">\n    <path clip-path=\"url(#p3196f56e13)\" d=\"M 282.764531 239.758125 \nL 291.460623 239.758125 \nL 291.460623 234.355889 \nL 282.764531 234.355889 \nz\n\" style=\"fill:#1f77b4;fill-opacity:0.5;stroke:#000000;stroke-linejoin:miter;stroke-width:0.869609;\"/>\n   </g>\n   <g id=\"patch_29\">\n    <path clip-path=\"url(#p3196f56e13)\" d=\"M 291.460623 239.758125 \nL 300.156738 239.758125 \nL 300.156738 232.555144 \nL 291.460623 232.555144 \nz\n\" style=\"fill:#1f77b4;fill-opacity:0.5;stroke:#000000;stroke-linejoin:miter;stroke-width:0.869609;\"/>\n   </g>\n   <g id=\"patch_30\">\n    <path clip-path=\"url(#p3196f56e13)\" d=\"M 300.156738 239.758125 \nL 308.85283 239.758125 \nL 308.85283 232.555144 \nL 300.156738 232.555144 \nz\n\" style=\"fill:#1f77b4;fill-opacity:0.5;stroke:#000000;stroke-linejoin:miter;stroke-width:0.869609;\"/>\n   </g>\n   <g id=\"patch_31\">\n    <path clip-path=\"url(#p3196f56e13)\" d=\"M 308.85283 239.758125 \nL 317.548946 239.758125 \nL 317.548946 232.555144 \nL 308.85283 232.555144 \nz\n\" style=\"fill:#1f77b4;fill-opacity:0.5;stroke:#000000;stroke-linejoin:miter;stroke-width:0.869609;\"/>\n   </g>\n   <g id=\"patch_32\">\n    <path clip-path=\"url(#p3196f56e13)\" d=\"M 317.548946 239.758125 \nL 326.245037 239.758125 \nL 326.245037 230.754398 \nL 317.548946 230.754398 \nz\n\" style=\"fill:#1f77b4;fill-opacity:0.5;stroke:#000000;stroke-linejoin:miter;stroke-width:0.869609;\"/>\n   </g>\n   <g id=\"patch_33\">\n    <path clip-path=\"url(#p3196f56e13)\" d=\"M 326.245037 239.758125 \nL 334.941153 239.758125 \nL 334.941153 228.953653 \nL 326.245037 228.953653 \nz\n\" style=\"fill:#1f77b4;fill-opacity:0.5;stroke:#000000;stroke-linejoin:miter;stroke-width:0.869609;\"/>\n   </g>\n   <g id=\"patch_34\">\n    <path clip-path=\"url(#p3196f56e13)\" d=\"M 334.941153 239.758125 \nL 343.637245 239.758125 \nL 343.637245 239.758125 \nL 334.941153 239.758125 \nz\n\" style=\"fill:#1f77b4;fill-opacity:0.5;stroke:#000000;stroke-linejoin:miter;stroke-width:0.869609;\"/>\n   </g>\n   <g id=\"patch_35\">\n    <path clip-path=\"url(#p3196f56e13)\" d=\"M 343.637245 239.758125 \nL 352.333361 239.758125 \nL 352.333361 236.156634 \nL 343.637245 236.156634 \nz\n\" style=\"fill:#1f77b4;fill-opacity:0.5;stroke:#000000;stroke-linejoin:miter;stroke-width:0.869609;\"/>\n   </g>\n   <g id=\"patch_36\">\n    <path clip-path=\"url(#p3196f56e13)\" d=\"M 352.333361 239.758125 \nL 361.029452 239.758125 \nL 361.029452 237.95738 \nL 352.333361 237.95738 \nz\n\" style=\"fill:#1f77b4;fill-opacity:0.5;stroke:#000000;stroke-linejoin:miter;stroke-width:0.869609;\"/>\n   </g>\n   <g id=\"patch_37\">\n    <path clip-path=\"url(#p3196f56e13)\" d=\"M 361.029452 239.758125 \nL 369.725568 239.758125 \nL 369.725568 236.156634 \nL 361.029452 236.156634 \nz\n\" style=\"fill:#1f77b4;fill-opacity:0.5;stroke:#000000;stroke-linejoin:miter;stroke-width:0.869609;\"/>\n   </g>\n   <g id=\"matplotlib.axis_1\">\n    <g id=\"xtick_1\">\n     <g id=\"line2d_1\">\n      <defs>\n       <path d=\"M 0 0 \nL 0 3.5 \n\" id=\"m8b2e0f0647\" style=\"stroke:#000000;stroke-width:0.8;\"/>\n      </defs>\n      <g>\n       <use style=\"stroke:#000000;stroke-width:0.8;\" x=\"87.862506\" xlink:href=\"#m8b2e0f0647\" y=\"239.758125\"/>\n      </g>\n     </g>\n     <g id=\"text_1\">\n      <!-- 0.050 -->\n      <defs>\n       <path d=\"M 31.78125 66.40625 \nQ 24.171875 66.40625 20.328125 58.90625 \nQ 16.5 51.421875 16.5 36.375 \nQ 16.5 21.390625 20.328125 13.890625 \nQ 24.171875 6.390625 31.78125 6.390625 \nQ 39.453125 6.390625 43.28125 13.890625 \nQ 47.125 21.390625 47.125 36.375 \nQ 47.125 51.421875 43.28125 58.90625 \nQ 39.453125 66.40625 31.78125 66.40625 \nz\nM 31.78125 74.21875 \nQ 44.046875 74.21875 50.515625 64.515625 \nQ 56.984375 54.828125 56.984375 36.375 \nQ 56.984375 17.96875 50.515625 8.265625 \nQ 44.046875 -1.421875 31.78125 -1.421875 \nQ 19.53125 -1.421875 13.0625 8.265625 \nQ 6.59375 17.96875 6.59375 36.375 \nQ 6.59375 54.828125 13.0625 64.515625 \nQ 19.53125 74.21875 31.78125 74.21875 \nz\n\" id=\"DejaVuSans-48\"/>\n       <path d=\"M 10.6875 12.40625 \nL 21 12.40625 \nL 21 0 \nL 10.6875 0 \nz\n\" id=\"DejaVuSans-46\"/>\n       <path d=\"M 10.796875 72.90625 \nL 49.515625 72.90625 \nL 49.515625 64.59375 \nL 19.828125 64.59375 \nL 19.828125 46.734375 \nQ 21.96875 47.46875 24.109375 47.828125 \nQ 26.265625 48.1875 28.421875 48.1875 \nQ 40.625 48.1875 47.75 41.5 \nQ 54.890625 34.8125 54.890625 23.390625 \nQ 54.890625 11.625 47.5625 5.09375 \nQ 40.234375 -1.421875 26.90625 -1.421875 \nQ 22.3125 -1.421875 17.546875 -0.640625 \nQ 12.796875 0.140625 7.71875 1.703125 \nL 7.71875 11.625 \nQ 12.109375 9.234375 16.796875 8.0625 \nQ 21.484375 6.890625 26.703125 6.890625 \nQ 35.15625 6.890625 40.078125 11.328125 \nQ 45.015625 15.765625 45.015625 23.390625 \nQ 45.015625 31 40.078125 35.4375 \nQ 35.15625 39.890625 26.703125 39.890625 \nQ 22.75 39.890625 18.8125 39.015625 \nQ 14.890625 38.140625 10.796875 36.28125 \nz\n\" id=\"DejaVuSans-53\"/>\n      </defs>\n      <g transform=\"translate(73.548444 254.356562)scale(0.1 -0.1)\">\n       <use xlink:href=\"#DejaVuSans-48\"/>\n       <use x=\"63.623047\" xlink:href=\"#DejaVuSans-46\"/>\n       <use x=\"95.410156\" xlink:href=\"#DejaVuSans-48\"/>\n       <use x=\"159.033203\" xlink:href=\"#DejaVuSans-53\"/>\n       <use x=\"222.65625\" xlink:href=\"#DejaVuSans-48\"/>\n      </g>\n     </g>\n    </g>\n    <g id=\"xtick_2\">\n     <g id=\"line2d_2\">\n      <g>\n       <use style=\"stroke:#000000;stroke-width:0.8;\" x=\"128.416604\" xlink:href=\"#m8b2e0f0647\" y=\"239.758125\"/>\n      </g>\n     </g>\n     <g id=\"text_2\">\n      <!-- 0.075 -->\n      <defs>\n       <path d=\"M 8.203125 72.90625 \nL 55.078125 72.90625 \nL 55.078125 68.703125 \nL 28.609375 0 \nL 18.3125 0 \nL 43.21875 64.59375 \nL 8.203125 64.59375 \nz\n\" id=\"DejaVuSans-55\"/>\n      </defs>\n      <g transform=\"translate(114.102542 254.356562)scale(0.1 -0.1)\">\n       <use xlink:href=\"#DejaVuSans-48\"/>\n       <use x=\"63.623047\" xlink:href=\"#DejaVuSans-46\"/>\n       <use x=\"95.410156\" xlink:href=\"#DejaVuSans-48\"/>\n       <use x=\"159.033203\" xlink:href=\"#DejaVuSans-55\"/>\n       <use x=\"222.65625\" xlink:href=\"#DejaVuSans-53\"/>\n      </g>\n     </g>\n    </g>\n    <g id=\"xtick_3\">\n     <g id=\"line2d_3\">\n      <g>\n       <use style=\"stroke:#000000;stroke-width:0.8;\" x=\"168.970703\" xlink:href=\"#m8b2e0f0647\" y=\"239.758125\"/>\n      </g>\n     </g>\n     <g id=\"text_3\">\n      <!-- 0.100 -->\n      <defs>\n       <path d=\"M 12.40625 8.296875 \nL 28.515625 8.296875 \nL 28.515625 63.921875 \nL 10.984375 60.40625 \nL 10.984375 69.390625 \nL 28.421875 72.90625 \nL 38.28125 72.90625 \nL 38.28125 8.296875 \nL 54.390625 8.296875 \nL 54.390625 0 \nL 12.40625 0 \nz\n\" id=\"DejaVuSans-49\"/>\n      </defs>\n      <g transform=\"translate(154.65664 254.356562)scale(0.1 -0.1)\">\n       <use xlink:href=\"#DejaVuSans-48\"/>\n       <use x=\"63.623047\" xlink:href=\"#DejaVuSans-46\"/>\n       <use x=\"95.410156\" xlink:href=\"#DejaVuSans-49\"/>\n       <use x=\"159.033203\" xlink:href=\"#DejaVuSans-48\"/>\n       <use x=\"222.65625\" xlink:href=\"#DejaVuSans-48\"/>\n      </g>\n     </g>\n    </g>\n    <g id=\"xtick_4\">\n     <g id=\"line2d_4\">\n      <g>\n       <use style=\"stroke:#000000;stroke-width:0.8;\" x=\"209.524801\" xlink:href=\"#m8b2e0f0647\" y=\"239.758125\"/>\n      </g>\n     </g>\n     <g id=\"text_4\">\n      <!-- 0.125 -->\n      <defs>\n       <path d=\"M 19.1875 8.296875 \nL 53.609375 8.296875 \nL 53.609375 0 \nL 7.328125 0 \nL 7.328125 8.296875 \nQ 12.9375 14.109375 22.625 23.890625 \nQ 32.328125 33.6875 34.8125 36.53125 \nQ 39.546875 41.84375 41.421875 45.53125 \nQ 43.3125 49.21875 43.3125 52.78125 \nQ 43.3125 58.59375 39.234375 62.25 \nQ 35.15625 65.921875 28.609375 65.921875 \nQ 23.96875 65.921875 18.8125 64.3125 \nQ 13.671875 62.703125 7.8125 59.421875 \nL 7.8125 69.390625 \nQ 13.765625 71.78125 18.9375 73 \nQ 24.125 74.21875 28.421875 74.21875 \nQ 39.75 74.21875 46.484375 68.546875 \nQ 53.21875 62.890625 53.21875 53.421875 \nQ 53.21875 48.921875 51.53125 44.890625 \nQ 49.859375 40.875 45.40625 35.40625 \nQ 44.1875 33.984375 37.640625 27.21875 \nQ 31.109375 20.453125 19.1875 8.296875 \nz\n\" id=\"DejaVuSans-50\"/>\n      </defs>\n      <g transform=\"translate(195.210739 254.356562)scale(0.1 -0.1)\">\n       <use xlink:href=\"#DejaVuSans-48\"/>\n       <use x=\"63.623047\" xlink:href=\"#DejaVuSans-46\"/>\n       <use x=\"95.410156\" xlink:href=\"#DejaVuSans-49\"/>\n       <use x=\"159.033203\" xlink:href=\"#DejaVuSans-50\"/>\n       <use x=\"222.65625\" xlink:href=\"#DejaVuSans-53\"/>\n      </g>\n     </g>\n    </g>\n    <g id=\"xtick_5\">\n     <g id=\"line2d_5\">\n      <g>\n       <use style=\"stroke:#000000;stroke-width:0.8;\" x=\"250.0789\" xlink:href=\"#m8b2e0f0647\" y=\"239.758125\"/>\n      </g>\n     </g>\n     <g id=\"text_5\">\n      <!-- 0.150 -->\n      <g transform=\"translate(235.764837 254.356562)scale(0.1 -0.1)\">\n       <use xlink:href=\"#DejaVuSans-48\"/>\n       <use x=\"63.623047\" xlink:href=\"#DejaVuSans-46\"/>\n       <use x=\"95.410156\" xlink:href=\"#DejaVuSans-49\"/>\n       <use x=\"159.033203\" xlink:href=\"#DejaVuSans-53\"/>\n       <use x=\"222.65625\" xlink:href=\"#DejaVuSans-48\"/>\n      </g>\n     </g>\n    </g>\n    <g id=\"xtick_6\">\n     <g id=\"line2d_6\">\n      <g>\n       <use style=\"stroke:#000000;stroke-width:0.8;\" x=\"290.632998\" xlink:href=\"#m8b2e0f0647\" y=\"239.758125\"/>\n      </g>\n     </g>\n     <g id=\"text_6\">\n      <!-- 0.175 -->\n      <g transform=\"translate(276.318935 254.356562)scale(0.1 -0.1)\">\n       <use xlink:href=\"#DejaVuSans-48\"/>\n       <use x=\"63.623047\" xlink:href=\"#DejaVuSans-46\"/>\n       <use x=\"95.410156\" xlink:href=\"#DejaVuSans-49\"/>\n       <use x=\"159.033203\" xlink:href=\"#DejaVuSans-55\"/>\n       <use x=\"222.65625\" xlink:href=\"#DejaVuSans-53\"/>\n      </g>\n     </g>\n    </g>\n    <g id=\"xtick_7\">\n     <g id=\"line2d_7\">\n      <g>\n       <use style=\"stroke:#000000;stroke-width:0.8;\" x=\"331.187096\" xlink:href=\"#m8b2e0f0647\" y=\"239.758125\"/>\n      </g>\n     </g>\n     <g id=\"text_7\">\n      <!-- 0.200 -->\n      <g transform=\"translate(316.873034 254.356562)scale(0.1 -0.1)\">\n       <use xlink:href=\"#DejaVuSans-48\"/>\n       <use x=\"63.623047\" xlink:href=\"#DejaVuSans-46\"/>\n       <use x=\"95.410156\" xlink:href=\"#DejaVuSans-50\"/>\n       <use x=\"159.033203\" xlink:href=\"#DejaVuSans-48\"/>\n       <use x=\"222.65625\" xlink:href=\"#DejaVuSans-48\"/>\n      </g>\n     </g>\n    </g>\n    <g id=\"xtick_8\">\n     <g id=\"line2d_8\">\n      <g>\n       <use style=\"stroke:#000000;stroke-width:0.8;\" x=\"371.741195\" xlink:href=\"#m8b2e0f0647\" y=\"239.758125\"/>\n      </g>\n     </g>\n     <g id=\"text_8\">\n      <!-- 0.225 -->\n      <g transform=\"translate(357.427132 254.356562)scale(0.1 -0.1)\">\n       <use xlink:href=\"#DejaVuSans-48\"/>\n       <use x=\"63.623047\" xlink:href=\"#DejaVuSans-46\"/>\n       <use x=\"95.410156\" xlink:href=\"#DejaVuSans-50\"/>\n       <use x=\"159.033203\" xlink:href=\"#DejaVuSans-50\"/>\n       <use x=\"222.65625\" xlink:href=\"#DejaVuSans-53\"/>\n      </g>\n     </g>\n    </g>\n    <g id=\"text_9\">\n     <!-- on-frequency -->\n     <defs>\n      <path d=\"M 30.609375 48.390625 \nQ 23.390625 48.390625 19.1875 42.75 \nQ 14.984375 37.109375 14.984375 27.296875 \nQ 14.984375 17.484375 19.15625 11.84375 \nQ 23.34375 6.203125 30.609375 6.203125 \nQ 37.796875 6.203125 41.984375 11.859375 \nQ 46.1875 17.53125 46.1875 27.296875 \nQ 46.1875 37.015625 41.984375 42.703125 \nQ 37.796875 48.390625 30.609375 48.390625 \nz\nM 30.609375 56 \nQ 42.328125 56 49.015625 48.375 \nQ 55.71875 40.765625 55.71875 27.296875 \nQ 55.71875 13.875 49.015625 6.21875 \nQ 42.328125 -1.421875 30.609375 -1.421875 \nQ 18.84375 -1.421875 12.171875 6.21875 \nQ 5.515625 13.875 5.515625 27.296875 \nQ 5.515625 40.765625 12.171875 48.375 \nQ 18.84375 56 30.609375 56 \nz\n\" id=\"DejaVuSans-111\"/>\n      <path d=\"M 54.890625 33.015625 \nL 54.890625 0 \nL 45.90625 0 \nL 45.90625 32.71875 \nQ 45.90625 40.484375 42.875 44.328125 \nQ 39.84375 48.1875 33.796875 48.1875 \nQ 26.515625 48.1875 22.3125 43.546875 \nQ 18.109375 38.921875 18.109375 30.90625 \nL 18.109375 0 \nL 9.078125 0 \nL 9.078125 54.6875 \nL 18.109375 54.6875 \nL 18.109375 46.1875 \nQ 21.34375 51.125 25.703125 53.5625 \nQ 30.078125 56 35.796875 56 \nQ 45.21875 56 50.046875 50.171875 \nQ 54.890625 44.34375 54.890625 33.015625 \nz\n\" id=\"DejaVuSans-110\"/>\n      <path d=\"M 4.890625 31.390625 \nL 31.203125 31.390625 \nL 31.203125 23.390625 \nL 4.890625 23.390625 \nz\n\" id=\"DejaVuSans-45\"/>\n      <path d=\"M 37.109375 75.984375 \nL 37.109375 68.5 \nL 28.515625 68.5 \nQ 23.6875 68.5 21.796875 66.546875 \nQ 19.921875 64.59375 19.921875 59.515625 \nL 19.921875 54.6875 \nL 34.71875 54.6875 \nL 34.71875 47.703125 \nL 19.921875 47.703125 \nL 19.921875 0 \nL 10.890625 0 \nL 10.890625 47.703125 \nL 2.296875 47.703125 \nL 2.296875 54.6875 \nL 10.890625 54.6875 \nL 10.890625 58.5 \nQ 10.890625 67.625 15.140625 71.796875 \nQ 19.390625 75.984375 28.609375 75.984375 \nz\n\" id=\"DejaVuSans-102\"/>\n      <path d=\"M 41.109375 46.296875 \nQ 39.59375 47.171875 37.8125 47.578125 \nQ 36.03125 48 33.890625 48 \nQ 26.265625 48 22.1875 43.046875 \nQ 18.109375 38.09375 18.109375 28.8125 \nL 18.109375 0 \nL 9.078125 0 \nL 9.078125 54.6875 \nL 18.109375 54.6875 \nL 18.109375 46.1875 \nQ 20.953125 51.171875 25.484375 53.578125 \nQ 30.03125 56 36.53125 56 \nQ 37.453125 56 38.578125 55.875 \nQ 39.703125 55.765625 41.0625 55.515625 \nz\n\" id=\"DejaVuSans-114\"/>\n      <path d=\"M 56.203125 29.59375 \nL 56.203125 25.203125 \nL 14.890625 25.203125 \nQ 15.484375 15.921875 20.484375 11.0625 \nQ 25.484375 6.203125 34.421875 6.203125 \nQ 39.59375 6.203125 44.453125 7.46875 \nQ 49.3125 8.734375 54.109375 11.28125 \nL 54.109375 2.78125 \nQ 49.265625 0.734375 44.1875 -0.34375 \nQ 39.109375 -1.421875 33.890625 -1.421875 \nQ 20.796875 -1.421875 13.15625 6.1875 \nQ 5.515625 13.8125 5.515625 26.8125 \nQ 5.515625 40.234375 12.765625 48.109375 \nQ 20.015625 56 32.328125 56 \nQ 43.359375 56 49.78125 48.890625 \nQ 56.203125 41.796875 56.203125 29.59375 \nz\nM 47.21875 32.234375 \nQ 47.125 39.59375 43.09375 43.984375 \nQ 39.0625 48.390625 32.421875 48.390625 \nQ 24.90625 48.390625 20.390625 44.140625 \nQ 15.875 39.890625 15.1875 32.171875 \nz\n\" id=\"DejaVuSans-101\"/>\n      <path d=\"M 14.796875 27.296875 \nQ 14.796875 17.390625 18.875 11.75 \nQ 22.953125 6.109375 30.078125 6.109375 \nQ 37.203125 6.109375 41.296875 11.75 \nQ 45.40625 17.390625 45.40625 27.296875 \nQ 45.40625 37.203125 41.296875 42.84375 \nQ 37.203125 48.484375 30.078125 48.484375 \nQ 22.953125 48.484375 18.875 42.84375 \nQ 14.796875 37.203125 14.796875 27.296875 \nz\nM 45.40625 8.203125 \nQ 42.578125 3.328125 38.25 0.953125 \nQ 33.9375 -1.421875 27.875 -1.421875 \nQ 17.96875 -1.421875 11.734375 6.484375 \nQ 5.515625 14.40625 5.515625 27.296875 \nQ 5.515625 40.1875 11.734375 48.09375 \nQ 17.96875 56 27.875 56 \nQ 33.9375 56 38.25 53.625 \nQ 42.578125 51.265625 45.40625 46.390625 \nL 45.40625 54.6875 \nL 54.390625 54.6875 \nL 54.390625 -20.796875 \nL 45.40625 -20.796875 \nz\n\" id=\"DejaVuSans-113\"/>\n      <path d=\"M 8.5 21.578125 \nL 8.5 54.6875 \nL 17.484375 54.6875 \nL 17.484375 21.921875 \nQ 17.484375 14.15625 20.5 10.265625 \nQ 23.53125 6.390625 29.59375 6.390625 \nQ 36.859375 6.390625 41.078125 11.03125 \nQ 45.3125 15.671875 45.3125 23.6875 \nL 45.3125 54.6875 \nL 54.296875 54.6875 \nL 54.296875 0 \nL 45.3125 0 \nL 45.3125 8.40625 \nQ 42.046875 3.421875 37.71875 1 \nQ 33.40625 -1.421875 27.6875 -1.421875 \nQ 18.265625 -1.421875 13.375 4.4375 \nQ 8.5 10.296875 8.5 21.578125 \nz\nM 31.109375 56 \nz\n\" id=\"DejaVuSans-117\"/>\n      <path d=\"M 48.78125 52.59375 \nL 48.78125 44.1875 \nQ 44.96875 46.296875 41.140625 47.34375 \nQ 37.3125 48.390625 33.40625 48.390625 \nQ 24.65625 48.390625 19.8125 42.84375 \nQ 14.984375 37.3125 14.984375 27.296875 \nQ 14.984375 17.28125 19.8125 11.734375 \nQ 24.65625 6.203125 33.40625 6.203125 \nQ 37.3125 6.203125 41.140625 7.25 \nQ 44.96875 8.296875 48.78125 10.40625 \nL 48.78125 2.09375 \nQ 45.015625 0.34375 40.984375 -0.53125 \nQ 36.96875 -1.421875 32.421875 -1.421875 \nQ 20.0625 -1.421875 12.78125 6.34375 \nQ 5.515625 14.109375 5.515625 27.296875 \nQ 5.515625 40.671875 12.859375 48.328125 \nQ 20.21875 56 33.015625 56 \nQ 37.15625 56 41.109375 55.140625 \nQ 45.0625 54.296875 48.78125 52.59375 \nz\n\" id=\"DejaVuSans-99\"/>\n      <path d=\"M 32.171875 -5.078125 \nQ 28.375 -14.84375 24.75 -17.8125 \nQ 21.140625 -20.796875 15.09375 -20.796875 \nL 7.90625 -20.796875 \nL 7.90625 -13.28125 \nL 13.1875 -13.28125 \nQ 16.890625 -13.28125 18.9375 -11.515625 \nQ 21 -9.765625 23.484375 -3.21875 \nL 25.09375 0.875 \nL 2.984375 54.6875 \nL 12.5 54.6875 \nL 29.59375 11.921875 \nL 46.6875 54.6875 \nL 56.203125 54.6875 \nz\n\" id=\"DejaVuSans-121\"/>\n     </defs>\n     <g transform=\"translate(184.435156 268.034687)scale(0.1 -0.1)\">\n      <use xlink:href=\"#DejaVuSans-111\"/>\n      <use x=\"61.181641\" xlink:href=\"#DejaVuSans-110\"/>\n      <use x=\"124.560547\" xlink:href=\"#DejaVuSans-45\"/>\n      <use x=\"160.644531\" xlink:href=\"#DejaVuSans-102\"/>\n      <use x=\"195.849609\" xlink:href=\"#DejaVuSans-114\"/>\n      <use x=\"234.712891\" xlink:href=\"#DejaVuSans-101\"/>\n      <use x=\"296.236328\" xlink:href=\"#DejaVuSans-113\"/>\n      <use x=\"359.712891\" xlink:href=\"#DejaVuSans-117\"/>\n      <use x=\"423.091797\" xlink:href=\"#DejaVuSans-101\"/>\n      <use x=\"484.615234\" xlink:href=\"#DejaVuSans-110\"/>\n      <use x=\"547.994141\" xlink:href=\"#DejaVuSans-99\"/>\n      <use x=\"602.974609\" xlink:href=\"#DejaVuSans-121\"/>\n     </g>\n    </g>\n   </g>\n   <g id=\"matplotlib.axis_2\">\n    <g id=\"ytick_1\">\n     <g id=\"line2d_9\">\n      <defs>\n       <path d=\"M 0 0 \nL -3.5 0 \n\" id=\"md1bf83163e\" style=\"stroke:#000000;stroke-width:0.8;\"/>\n      </defs>\n      <g>\n       <use style=\"stroke:#000000;stroke-width:0.8;\" x=\"50.14375\" xlink:href=\"#md1bf83163e\" y=\"239.758125\"/>\n      </g>\n     </g>\n     <g id=\"text_10\">\n      <!-- 0.00 -->\n      <g transform=\"translate(20.878125 243.557344)scale(0.1 -0.1)\">\n       <use xlink:href=\"#DejaVuSans-48\"/>\n       <use x=\"63.623047\" xlink:href=\"#DejaVuSans-46\"/>\n       <use x=\"95.410156\" xlink:href=\"#DejaVuSans-48\"/>\n       <use x=\"159.033203\" xlink:href=\"#DejaVuSans-48\"/>\n      </g>\n     </g>\n    </g>\n    <g id=\"ytick_2\">\n     <g id=\"line2d_10\">\n      <g>\n       <use style=\"stroke:#000000;stroke-width:0.8;\" x=\"50.14375\" xlink:href=\"#md1bf83163e\" y=\"203.743218\"/>\n      </g>\n     </g>\n     <g id=\"text_11\">\n      <!-- 0.02 -->\n      <g transform=\"translate(20.878125 207.542437)scale(0.1 -0.1)\">\n       <use xlink:href=\"#DejaVuSans-48\"/>\n       <use x=\"63.623047\" xlink:href=\"#DejaVuSans-46\"/>\n       <use x=\"95.410156\" xlink:href=\"#DejaVuSans-48\"/>\n       <use x=\"159.033203\" xlink:href=\"#DejaVuSans-50\"/>\n      </g>\n     </g>\n    </g>\n    <g id=\"ytick_3\">\n     <g id=\"line2d_11\">\n      <g>\n       <use style=\"stroke:#000000;stroke-width:0.8;\" x=\"50.14375\" xlink:href=\"#md1bf83163e\" y=\"167.728311\"/>\n      </g>\n     </g>\n     <g id=\"text_12\">\n      <!-- 0.04 -->\n      <defs>\n       <path d=\"M 37.796875 64.3125 \nL 12.890625 25.390625 \nL 37.796875 25.390625 \nz\nM 35.203125 72.90625 \nL 47.609375 72.90625 \nL 47.609375 25.390625 \nL 58.015625 25.390625 \nL 58.015625 17.1875 \nL 47.609375 17.1875 \nL 47.609375 0 \nL 37.796875 0 \nL 37.796875 17.1875 \nL 4.890625 17.1875 \nL 4.890625 26.703125 \nz\n\" id=\"DejaVuSans-52\"/>\n      </defs>\n      <g transform=\"translate(20.878125 171.52753)scale(0.1 -0.1)\">\n       <use xlink:href=\"#DejaVuSans-48\"/>\n       <use x=\"63.623047\" xlink:href=\"#DejaVuSans-46\"/>\n       <use x=\"95.410156\" xlink:href=\"#DejaVuSans-48\"/>\n       <use x=\"159.033203\" xlink:href=\"#DejaVuSans-52\"/>\n      </g>\n     </g>\n    </g>\n    <g id=\"ytick_4\">\n     <g id=\"line2d_12\">\n      <g>\n       <use style=\"stroke:#000000;stroke-width:0.8;\" x=\"50.14375\" xlink:href=\"#md1bf83163e\" y=\"131.713405\"/>\n      </g>\n     </g>\n     <g id=\"text_13\">\n      <!-- 0.06 -->\n      <defs>\n       <path d=\"M 33.015625 40.375 \nQ 26.375 40.375 22.484375 35.828125 \nQ 18.609375 31.296875 18.609375 23.390625 \nQ 18.609375 15.53125 22.484375 10.953125 \nQ 26.375 6.390625 33.015625 6.390625 \nQ 39.65625 6.390625 43.53125 10.953125 \nQ 47.40625 15.53125 47.40625 23.390625 \nQ 47.40625 31.296875 43.53125 35.828125 \nQ 39.65625 40.375 33.015625 40.375 \nz\nM 52.59375 71.296875 \nL 52.59375 62.3125 \nQ 48.875 64.0625 45.09375 64.984375 \nQ 41.3125 65.921875 37.59375 65.921875 \nQ 27.828125 65.921875 22.671875 59.328125 \nQ 17.53125 52.734375 16.796875 39.40625 \nQ 19.671875 43.65625 24.015625 45.921875 \nQ 28.375 48.1875 33.59375 48.1875 \nQ 44.578125 48.1875 50.953125 41.515625 \nQ 57.328125 34.859375 57.328125 23.390625 \nQ 57.328125 12.15625 50.6875 5.359375 \nQ 44.046875 -1.421875 33.015625 -1.421875 \nQ 20.359375 -1.421875 13.671875 8.265625 \nQ 6.984375 17.96875 6.984375 36.375 \nQ 6.984375 53.65625 15.1875 63.9375 \nQ 23.390625 74.21875 37.203125 74.21875 \nQ 40.921875 74.21875 44.703125 73.484375 \nQ 48.484375 72.75 52.59375 71.296875 \nz\n\" id=\"DejaVuSans-54\"/>\n      </defs>\n      <g transform=\"translate(20.878125 135.512623)scale(0.1 -0.1)\">\n       <use xlink:href=\"#DejaVuSans-48\"/>\n       <use x=\"63.623047\" xlink:href=\"#DejaVuSans-46\"/>\n       <use x=\"95.410156\" xlink:href=\"#DejaVuSans-48\"/>\n       <use x=\"159.033203\" xlink:href=\"#DejaVuSans-54\"/>\n      </g>\n     </g>\n    </g>\n    <g id=\"ytick_5\">\n     <g id=\"line2d_13\">\n      <g>\n       <use style=\"stroke:#000000;stroke-width:0.8;\" x=\"50.14375\" xlink:href=\"#md1bf83163e\" y=\"95.698498\"/>\n      </g>\n     </g>\n     <g id=\"text_14\">\n      <!-- 0.08 -->\n      <defs>\n       <path d=\"M 31.78125 34.625 \nQ 24.75 34.625 20.71875 30.859375 \nQ 16.703125 27.09375 16.703125 20.515625 \nQ 16.703125 13.921875 20.71875 10.15625 \nQ 24.75 6.390625 31.78125 6.390625 \nQ 38.8125 6.390625 42.859375 10.171875 \nQ 46.921875 13.96875 46.921875 20.515625 \nQ 46.921875 27.09375 42.890625 30.859375 \nQ 38.875 34.625 31.78125 34.625 \nz\nM 21.921875 38.8125 \nQ 15.578125 40.375 12.03125 44.71875 \nQ 8.5 49.078125 8.5 55.328125 \nQ 8.5 64.0625 14.71875 69.140625 \nQ 20.953125 74.21875 31.78125 74.21875 \nQ 42.671875 74.21875 48.875 69.140625 \nQ 55.078125 64.0625 55.078125 55.328125 \nQ 55.078125 49.078125 51.53125 44.71875 \nQ 48 40.375 41.703125 38.8125 \nQ 48.828125 37.15625 52.796875 32.3125 \nQ 56.78125 27.484375 56.78125 20.515625 \nQ 56.78125 9.90625 50.3125 4.234375 \nQ 43.84375 -1.421875 31.78125 -1.421875 \nQ 19.734375 -1.421875 13.25 4.234375 \nQ 6.78125 9.90625 6.78125 20.515625 \nQ 6.78125 27.484375 10.78125 32.3125 \nQ 14.796875 37.15625 21.921875 38.8125 \nz\nM 18.3125 54.390625 \nQ 18.3125 48.734375 21.84375 45.5625 \nQ 25.390625 42.390625 31.78125 42.390625 \nQ 38.140625 42.390625 41.71875 45.5625 \nQ 45.3125 48.734375 45.3125 54.390625 \nQ 45.3125 60.0625 41.71875 63.234375 \nQ 38.140625 66.40625 31.78125 66.40625 \nQ 25.390625 66.40625 21.84375 63.234375 \nQ 18.3125 60.0625 18.3125 54.390625 \nz\n\" id=\"DejaVuSans-56\"/>\n      </defs>\n      <g transform=\"translate(20.878125 99.497716)scale(0.1 -0.1)\">\n       <use xlink:href=\"#DejaVuSans-48\"/>\n       <use x=\"63.623047\" xlink:href=\"#DejaVuSans-46\"/>\n       <use x=\"95.410156\" xlink:href=\"#DejaVuSans-48\"/>\n       <use x=\"159.033203\" xlink:href=\"#DejaVuSans-56\"/>\n      </g>\n     </g>\n    </g>\n    <g id=\"ytick_6\">\n     <g id=\"line2d_14\">\n      <g>\n       <use style=\"stroke:#000000;stroke-width:0.8;\" x=\"50.14375\" xlink:href=\"#md1bf83163e\" y=\"59.683591\"/>\n      </g>\n     </g>\n     <g id=\"text_15\">\n      <!-- 0.10 -->\n      <g transform=\"translate(20.878125 63.48281)scale(0.1 -0.1)\">\n       <use xlink:href=\"#DejaVuSans-48\"/>\n       <use x=\"63.623047\" xlink:href=\"#DejaVuSans-46\"/>\n       <use x=\"95.410156\" xlink:href=\"#DejaVuSans-49\"/>\n       <use x=\"159.033203\" xlink:href=\"#DejaVuSans-48\"/>\n      </g>\n     </g>\n    </g>\n    <g id=\"ytick_7\">\n     <g id=\"line2d_15\">\n      <g>\n       <use style=\"stroke:#000000;stroke-width:0.8;\" x=\"50.14375\" xlink:href=\"#md1bf83163e\" y=\"23.668684\"/>\n      </g>\n     </g>\n     <g id=\"text_16\">\n      <!-- 0.12 -->\n      <g transform=\"translate(20.878125 27.467903)scale(0.1 -0.1)\">\n       <use xlink:href=\"#DejaVuSans-48\"/>\n       <use x=\"63.623047\" xlink:href=\"#DejaVuSans-46\"/>\n       <use x=\"95.410156\" xlink:href=\"#DejaVuSans-49\"/>\n       <use x=\"159.033203\" xlink:href=\"#DejaVuSans-50\"/>\n      </g>\n     </g>\n    </g>\n    <g id=\"text_17\">\n     <!-- Probability -->\n     <defs>\n      <path d=\"M 19.671875 64.796875 \nL 19.671875 37.40625 \nL 32.078125 37.40625 \nQ 38.96875 37.40625 42.71875 40.96875 \nQ 46.484375 44.53125 46.484375 51.125 \nQ 46.484375 57.671875 42.71875 61.234375 \nQ 38.96875 64.796875 32.078125 64.796875 \nz\nM 9.8125 72.90625 \nL 32.078125 72.90625 \nQ 44.34375 72.90625 50.609375 67.359375 \nQ 56.890625 61.8125 56.890625 51.125 \nQ 56.890625 40.328125 50.609375 34.8125 \nQ 44.34375 29.296875 32.078125 29.296875 \nL 19.671875 29.296875 \nL 19.671875 0 \nL 9.8125 0 \nz\n\" id=\"DejaVuSans-80\"/>\n      <path d=\"M 48.6875 27.296875 \nQ 48.6875 37.203125 44.609375 42.84375 \nQ 40.53125 48.484375 33.40625 48.484375 \nQ 26.265625 48.484375 22.1875 42.84375 \nQ 18.109375 37.203125 18.109375 27.296875 \nQ 18.109375 17.390625 22.1875 11.75 \nQ 26.265625 6.109375 33.40625 6.109375 \nQ 40.53125 6.109375 44.609375 11.75 \nQ 48.6875 17.390625 48.6875 27.296875 \nz\nM 18.109375 46.390625 \nQ 20.953125 51.265625 25.265625 53.625 \nQ 29.59375 56 35.59375 56 \nQ 45.5625 56 51.78125 48.09375 \nQ 58.015625 40.1875 58.015625 27.296875 \nQ 58.015625 14.40625 51.78125 6.484375 \nQ 45.5625 -1.421875 35.59375 -1.421875 \nQ 29.59375 -1.421875 25.265625 0.953125 \nQ 20.953125 3.328125 18.109375 8.203125 \nL 18.109375 0 \nL 9.078125 0 \nL 9.078125 75.984375 \nL 18.109375 75.984375 \nz\n\" id=\"DejaVuSans-98\"/>\n      <path d=\"M 34.28125 27.484375 \nQ 23.390625 27.484375 19.1875 25 \nQ 14.984375 22.515625 14.984375 16.5 \nQ 14.984375 11.71875 18.140625 8.90625 \nQ 21.296875 6.109375 26.703125 6.109375 \nQ 34.1875 6.109375 38.703125 11.40625 \nQ 43.21875 16.703125 43.21875 25.484375 \nL 43.21875 27.484375 \nz\nM 52.203125 31.203125 \nL 52.203125 0 \nL 43.21875 0 \nL 43.21875 8.296875 \nQ 40.140625 3.328125 35.546875 0.953125 \nQ 30.953125 -1.421875 24.3125 -1.421875 \nQ 15.921875 -1.421875 10.953125 3.296875 \nQ 6 8.015625 6 15.921875 \nQ 6 25.140625 12.171875 29.828125 \nQ 18.359375 34.515625 30.609375 34.515625 \nL 43.21875 34.515625 \nL 43.21875 35.40625 \nQ 43.21875 41.609375 39.140625 45 \nQ 35.0625 48.390625 27.6875 48.390625 \nQ 23 48.390625 18.546875 47.265625 \nQ 14.109375 46.140625 10.015625 43.890625 \nL 10.015625 52.203125 \nQ 14.9375 54.109375 19.578125 55.046875 \nQ 24.21875 56 28.609375 56 \nQ 40.484375 56 46.34375 49.84375 \nQ 52.203125 43.703125 52.203125 31.203125 \nz\n\" id=\"DejaVuSans-97\"/>\n      <path d=\"M 9.421875 54.6875 \nL 18.40625 54.6875 \nL 18.40625 0 \nL 9.421875 0 \nz\nM 9.421875 75.984375 \nL 18.40625 75.984375 \nL 18.40625 64.59375 \nL 9.421875 64.59375 \nz\n\" id=\"DejaVuSans-105\"/>\n      <path d=\"M 9.421875 75.984375 \nL 18.40625 75.984375 \nL 18.40625 0 \nL 9.421875 0 \nz\n\" id=\"DejaVuSans-108\"/>\n      <path d=\"M 18.3125 70.21875 \nL 18.3125 54.6875 \nL 36.8125 54.6875 \nL 36.8125 47.703125 \nL 18.3125 47.703125 \nL 18.3125 18.015625 \nQ 18.3125 11.328125 20.140625 9.421875 \nQ 21.96875 7.515625 27.59375 7.515625 \nL 36.8125 7.515625 \nL 36.8125 0 \nL 27.59375 0 \nQ 17.1875 0 13.234375 3.875 \nQ 9.28125 7.765625 9.28125 18.015625 \nL 9.28125 47.703125 \nL 2.6875 47.703125 \nL 2.6875 54.6875 \nL 9.28125 54.6875 \nL 9.28125 70.21875 \nz\n\" id=\"DejaVuSans-116\"/>\n     </defs>\n     <g transform=\"translate(14.798438 157.467031)rotate(-90)scale(0.1 -0.1)\">\n      <use xlink:href=\"#DejaVuSans-80\"/>\n      <use x=\"58.552734\" xlink:href=\"#DejaVuSans-114\"/>\n      <use x=\"97.416016\" xlink:href=\"#DejaVuSans-111\"/>\n      <use x=\"158.597656\" xlink:href=\"#DejaVuSans-98\"/>\n      <use x=\"222.074219\" xlink:href=\"#DejaVuSans-97\"/>\n      <use x=\"283.353516\" xlink:href=\"#DejaVuSans-98\"/>\n      <use x=\"346.830078\" xlink:href=\"#DejaVuSans-105\"/>\n      <use x=\"374.613281\" xlink:href=\"#DejaVuSans-108\"/>\n      <use x=\"402.396484\" xlink:href=\"#DejaVuSans-105\"/>\n      <use x=\"430.179688\" xlink:href=\"#DejaVuSans-116\"/>\n      <use x=\"469.388672\" xlink:href=\"#DejaVuSans-121\"/>\n     </g>\n    </g>\n   </g>\n   <g id=\"line2d_16\">\n    <path clip-path=\"url(#p3196f56e13)\" d=\"M 65.361932 235.285066 \nL 77.597656 231.442061 \nL 80.656587 230.210039 \nL 83.715518 228.645386 \nL 86.774449 226.626854 \nL 89.83338 224.07213 \nL 92.892311 220.948975 \nL 95.951242 217.263081 \nL 99.010173 213.026307 \nL 102.069104 208.219113 \nL 105.128035 202.76481 \nL 108.186966 196.528187 \nL 111.245897 189.340282 \nL 114.304828 181.040879 \nL 117.363759 171.5261 \nL 120.42269 160.790411 \nL 123.481621 148.95682 \nL 128.070018 129.768511 \nL 134.18788 103.898356 \nL 137.246811 92.083455 \nL 138.776276 86.690989 \nL 140.305742 81.715015 \nL 141.835207 77.19789 \nL 143.364673 73.170224 \nL 144.894138 69.650208 \nL 146.423604 66.643682 \nL 147.953069 64.14499 \nL 149.482535 62.138559 \nL 151.012 60.60111 \nL 152.541466 59.504282 \nL 154.070931 58.81745 \nL 155.600397 58.51043 \nL 157.129862 58.555807 \nL 158.659328 58.930621 \nL 160.188793 59.617274 \nL 161.718259 60.603582 \nL 163.247724 61.882067 \nL 164.77719 63.448651 \nL 166.306655 65.301034 \nL 167.836121 67.437049 \nL 169.365586 69.85327 \nL 170.895052 72.544081 \nL 172.424517 75.501297 \nL 175.483448 82.170688 \nL 178.54238 89.758802 \nL 181.601311 98.155012 \nL 184.660242 107.24919 \nL 189.248638 121.921227 \nL 201.484362 162.26867 \nL 204.543293 171.365227 \nL 207.602224 179.731156 \nL 210.661155 187.305641 \nL 213.720086 194.066478 \nL 216.779017 200.008788 \nL 219.837948 205.134466 \nL 221.367414 207.393599 \nL 222.896879 209.453148 \nL 224.426345 211.316665 \nL 225.95581 212.989039 \nL 227.485276 214.476619 \nL 229.014741 215.787251 \nL 230.544207 216.930263 \nL 232.073672 217.916401 \nL 233.603138 218.757726 \nL 236.662069 220.059925 \nL 239.721 220.953965 \nL 242.779931 221.566665 \nL 255.015655 223.543666 \nL 259.604052 224.735442 \nL 265.721914 226.684885 \nL 271.839776 228.610657 \nL 276.428172 229.812549 \nL 281.016569 230.770386 \nL 285.604965 231.530492 \nL 291.722827 232.29011 \nL 296.311224 232.629386 \nL 300.89962 232.703421 \nL 305.488017 232.509234 \nL 316.194275 231.803945 \nL 319.253206 231.802399 \nL 322.312137 231.961149 \nL 325.371068 232.28344 \nL 329.959465 233.034968 \nL 336.077327 234.358306 \nL 343.724655 236.026077 \nL 348.313051 236.783058 \nL 352.901448 237.280156 \nL 359.01931 237.639088 \nL 368.196103 238.115773 \nL 369.725568 238.227802 \nL 369.725568 238.227802 \n\" style=\"fill:none;stroke:#1f77b4;stroke-linecap:square;stroke-width:1.5;\"/>\n   </g>\n   <g id=\"patch_38\">\n    <path d=\"M 50.14375 239.758125 \nL 50.14375 22.318125 \n\" style=\"fill:none;stroke:#000000;stroke-linecap:square;stroke-linejoin:miter;stroke-width:0.8;\"/>\n   </g>\n   <g id=\"patch_39\">\n    <path d=\"M 384.94375 239.758125 \nL 384.94375 22.318125 \n\" style=\"fill:none;stroke:#000000;stroke-linecap:square;stroke-linejoin:miter;stroke-width:0.8;\"/>\n   </g>\n   <g id=\"patch_40\">\n    <path d=\"M 50.14375 239.758125 \nL 384.94375 239.758125 \n\" style=\"fill:none;stroke:#000000;stroke-linecap:square;stroke-linejoin:miter;stroke-width:0.8;\"/>\n   </g>\n   <g id=\"patch_41\">\n    <path d=\"M 50.14375 22.318125 \nL 384.94375 22.318125 \n\" style=\"fill:none;stroke:#000000;stroke-linecap:square;stroke-linejoin:miter;stroke-width:0.8;\"/>\n   </g>\n   <g id=\"text_18\">\n    <!-- How often are units on for layer 'linear_kwinner' -->\n    <defs>\n     <path d=\"M 9.8125 72.90625 \nL 19.671875 72.90625 \nL 19.671875 43.015625 \nL 55.515625 43.015625 \nL 55.515625 72.90625 \nL 65.375 72.90625 \nL 65.375 0 \nL 55.515625 0 \nL 55.515625 34.71875 \nL 19.671875 34.71875 \nL 19.671875 0 \nL 9.8125 0 \nz\n\" id=\"DejaVuSans-72\"/>\n     <path d=\"M 4.203125 54.6875 \nL 13.1875 54.6875 \nL 24.421875 12.015625 \nL 35.59375 54.6875 \nL 46.1875 54.6875 \nL 57.421875 12.015625 \nL 68.609375 54.6875 \nL 77.59375 54.6875 \nL 63.28125 0 \nL 52.6875 0 \nL 40.921875 44.828125 \nL 29.109375 0 \nL 18.5 0 \nz\n\" id=\"DejaVuSans-119\"/>\n     <path id=\"DejaVuSans-32\"/>\n     <path d=\"M 44.28125 53.078125 \nL 44.28125 44.578125 \nQ 40.484375 46.53125 36.375 47.5 \nQ 32.28125 48.484375 27.875 48.484375 \nQ 21.1875 48.484375 17.84375 46.4375 \nQ 14.5 44.390625 14.5 40.28125 \nQ 14.5 37.15625 16.890625 35.375 \nQ 19.28125 33.59375 26.515625 31.984375 \nL 29.59375 31.296875 \nQ 39.15625 29.25 43.1875 25.515625 \nQ 47.21875 21.78125 47.21875 15.09375 \nQ 47.21875 7.46875 41.1875 3.015625 \nQ 35.15625 -1.421875 24.609375 -1.421875 \nQ 20.21875 -1.421875 15.453125 -0.5625 \nQ 10.6875 0.296875 5.421875 2 \nL 5.421875 11.28125 \nQ 10.40625 8.6875 15.234375 7.390625 \nQ 20.0625 6.109375 24.8125 6.109375 \nQ 31.15625 6.109375 34.5625 8.28125 \nQ 37.984375 10.453125 37.984375 14.40625 \nQ 37.984375 18.0625 35.515625 20.015625 \nQ 33.0625 21.96875 24.703125 23.78125 \nL 21.578125 24.515625 \nQ 13.234375 26.265625 9.515625 29.90625 \nQ 5.8125 33.546875 5.8125 39.890625 \nQ 5.8125 47.609375 11.28125 51.796875 \nQ 16.75 56 26.8125 56 \nQ 31.78125 56 36.171875 55.265625 \nQ 40.578125 54.546875 44.28125 53.078125 \nz\n\" id=\"DejaVuSans-115\"/>\n     <path d=\"M 17.921875 72.90625 \nL 17.921875 45.796875 \nL 9.625 45.796875 \nL 9.625 72.90625 \nz\n\" id=\"DejaVuSans-39\"/>\n     <path d=\"M 50.984375 -16.609375 \nL 50.984375 -23.578125 \nL -0.984375 -23.578125 \nL -0.984375 -16.609375 \nz\n\" id=\"DejaVuSans-95\"/>\n     <path d=\"M 9.078125 75.984375 \nL 18.109375 75.984375 \nL 18.109375 31.109375 \nL 44.921875 54.6875 \nL 56.390625 54.6875 \nL 27.390625 29.109375 \nL 57.625 0 \nL 45.90625 0 \nL 18.109375 26.703125 \nL 18.109375 0 \nL 9.078125 0 \nz\n\" id=\"DejaVuSans-107\"/>\n    </defs>\n    <g transform=\"translate(73.271875 16.318125)scale(0.12 -0.12)\">\n     <use xlink:href=\"#DejaVuSans-72\"/>\n     <use x=\"75.195312\" xlink:href=\"#DejaVuSans-111\"/>\n     <use x=\"136.376953\" xlink:href=\"#DejaVuSans-119\"/>\n     <use x=\"218.164062\" xlink:href=\"#DejaVuSans-32\"/>\n     <use x=\"249.951172\" xlink:href=\"#DejaVuSans-111\"/>\n     <use x=\"311.132812\" xlink:href=\"#DejaVuSans-102\"/>\n     <use x=\"344.587891\" xlink:href=\"#DejaVuSans-116\"/>\n     <use x=\"383.796875\" xlink:href=\"#DejaVuSans-101\"/>\n     <use x=\"445.320312\" xlink:href=\"#DejaVuSans-110\"/>\n     <use x=\"508.699219\" xlink:href=\"#DejaVuSans-32\"/>\n     <use x=\"540.486328\" xlink:href=\"#DejaVuSans-97\"/>\n     <use x=\"601.765625\" xlink:href=\"#DejaVuSans-114\"/>\n     <use x=\"640.628906\" xlink:href=\"#DejaVuSans-101\"/>\n     <use x=\"702.152344\" xlink:href=\"#DejaVuSans-32\"/>\n     <use x=\"733.939453\" xlink:href=\"#DejaVuSans-117\"/>\n     <use x=\"797.318359\" xlink:href=\"#DejaVuSans-110\"/>\n     <use x=\"860.697266\" xlink:href=\"#DejaVuSans-105\"/>\n     <use x=\"888.480469\" xlink:href=\"#DejaVuSans-116\"/>\n     <use x=\"927.689453\" xlink:href=\"#DejaVuSans-115\"/>\n     <use x=\"979.789062\" xlink:href=\"#DejaVuSans-32\"/>\n     <use x=\"1011.576172\" xlink:href=\"#DejaVuSans-111\"/>\n     <use x=\"1072.757812\" xlink:href=\"#DejaVuSans-110\"/>\n     <use x=\"1136.136719\" xlink:href=\"#DejaVuSans-32\"/>\n     <use x=\"1167.923828\" xlink:href=\"#DejaVuSans-102\"/>\n     <use x=\"1203.128906\" xlink:href=\"#DejaVuSans-111\"/>\n     <use x=\"1264.310547\" xlink:href=\"#DejaVuSans-114\"/>\n     <use x=\"1305.423828\" xlink:href=\"#DejaVuSans-32\"/>\n     <use x=\"1337.210938\" xlink:href=\"#DejaVuSans-108\"/>\n     <use x=\"1364.994141\" xlink:href=\"#DejaVuSans-97\"/>\n     <use x=\"1426.273438\" xlink:href=\"#DejaVuSans-121\"/>\n     <use x=\"1485.453125\" xlink:href=\"#DejaVuSans-101\"/>\n     <use x=\"1546.976562\" xlink:href=\"#DejaVuSans-114\"/>\n     <use x=\"1588.089844\" xlink:href=\"#DejaVuSans-32\"/>\n     <use x=\"1619.876953\" xlink:href=\"#DejaVuSans-39\"/>\n     <use x=\"1647.367188\" xlink:href=\"#DejaVuSans-108\"/>\n     <use x=\"1675.150391\" xlink:href=\"#DejaVuSans-105\"/>\n     <use x=\"1702.933594\" xlink:href=\"#DejaVuSans-110\"/>\n     <use x=\"1766.3125\" xlink:href=\"#DejaVuSans-101\"/>\n     <use x=\"1827.835938\" xlink:href=\"#DejaVuSans-97\"/>\n     <use x=\"1889.115234\" xlink:href=\"#DejaVuSans-114\"/>\n     <use x=\"1930.228516\" xlink:href=\"#DejaVuSans-95\"/>\n     <use x=\"1980.228516\" xlink:href=\"#DejaVuSans-107\"/>\n     <use x=\"2038.138672\" xlink:href=\"#DejaVuSans-119\"/>\n     <use x=\"2119.925781\" xlink:href=\"#DejaVuSans-105\"/>\n     <use x=\"2147.708984\" xlink:href=\"#DejaVuSans-110\"/>\n     <use x=\"2211.087891\" xlink:href=\"#DejaVuSans-110\"/>\n     <use x=\"2274.466797\" xlink:href=\"#DejaVuSans-101\"/>\n     <use x=\"2335.990234\" xlink:href=\"#DejaVuSans-114\"/>\n     <use x=\"2377.103516\" xlink:href=\"#DejaVuSans-39\"/>\n    </g>\n   </g>\n  </g>\n </g>\n <defs>\n  <clipPath id=\"p3196f56e13\">\n   <rect height=\"217.44\" width=\"334.8\" x=\"50.14375\" y=\"22.318125\"/>\n  </clipPath>\n </defs>\n</svg>\n",
      "image/png": "[encoded data removed]"
     },
     "metadata": {
      "needs_background": "light"
     }
    }
   ],
   "source": [
    "# Choose one layer to visualize the frequency of it's output units being on or off.\n",
    "layer = \"linear_kwinner\"\n",
    "\n",
    "on_freqs = layer_on_freqs[layer].cpu().numpy()\n",
    "\n",
    "fig = sns.histplot(data=on_freqs, kde=True, stat=\"probability\")\n",
    "fig.set_xlabel(\"on-frequency\")\n",
    "fig.set_title(f\"How often are units on for layer '{layer}'\");"
   ]
  },
  {
   "cell_type": "code",
   "execution_count": null,
   "metadata": {},
   "outputs": [],
   "source": []
  }
 ]
}